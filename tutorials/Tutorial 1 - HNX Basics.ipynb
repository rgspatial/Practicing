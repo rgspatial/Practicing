{
  "cells": [
    {
      "cell_type": "markdown",
      "metadata": {
        "id": "view-in-github",
        "colab_type": "text"
      },
      "source": [
        "<a href=\"https://colab.research.google.com/github/rgspatial/Practicing/blob/main/tutorials/Tutorial%201%20-%20HNX%20Basics.ipynb\" target=\"_parent\"><img src=\"https://colab.research.google.com/assets/colab-badge.svg\" alt=\"Open In Colab\"/></a>"
      ]
    },
    {
      "cell_type": "code",
      "execution_count": null,
      "metadata": {
        "id": "-dEV4xWff16m"
      },
      "outputs": [],
      "source": [
        "# !pip install hypernetx"
      ]
    },
    {
      "cell_type": "code",
      "execution_count": null,
      "metadata": {
        "id": "KVL1XeMXf16o"
      },
      "outputs": [],
      "source": [
        "import matplotlib.pyplot as plt\n",
        "import networkx as nx\n",
        "import hypernetx as hnx"
      ]
    },
    {
      "cell_type": "markdown",
      "metadata": {
        "id": "1pzof13Pf16p"
      },
      "source": [
        "# Data\n",
        "\n",
        "The data in several of our notebooks are taken from the jean.dat dataset available from the Stanford GraphBase at https://www-cs-faculty.stanford.edu/~knuth/sgb.html. This data gives character scene incidence information from the novel **Les Miserables** by Victor Hugo.\n"
      ]
    },
    {
      "cell_type": "code",
      "execution_count": null,
      "metadata": {
        "id": "-dVX10WCf16w"
      },
      "outputs": [],
      "source": [
        "scenes = {\n",
        "    0: ('FN', 'TH'),\n",
        "    1: ('TH', 'JV'),\n",
        "    2: ('BM', 'FN', 'JA'),\n",
        "    3: ('JV', 'JU', 'CH', 'BM'),\n",
        "    4: ('JU', 'CH', 'BR', 'CN', 'CC', 'JV', 'BM'),\n",
        "    5: ('TH', 'GP'),\n",
        "    6: ('GP', 'MP'),\n",
        "    7: ('MA', 'GP')\n",
        "}\n",
        "\n",
        "H = hnx.Hypergraph(scenes)"
      ]
    },
    {
      "cell_type": "code",
      "execution_count": null,
      "metadata": {
        "id": "u5wS1EkHf16y"
      },
      "outputs": [],
      "source": [
        "# Draw the hypergraph! For more on using all of the parameters\n",
        "# of the draw function see the Visualization tutorial\n",
        "hnx.draw(H)"
      ]
    },
    {
      "cell_type": "markdown",
      "metadata": {
        "id": "PPuappZUf16z"
      },
      "source": [
        "HNX hypergraphs can also be built from networkx bipartite graph objects using `from_bipartite`"
      ]
    },
    {
      "cell_type": "code",
      "execution_count": null,
      "metadata": {
        "id": "HNSIVHg6f16z"
      },
      "outputs": [],
      "source": [
        "B = nx.Graph()\n",
        "B.add_nodes_from([1, 2, 3, 4], bipartite=0)\n",
        "B.add_nodes_from(['a', 'b', 'c'], bipartite=1)\n",
        "# Add edges only between nodes of opposite node sets\n",
        "B.add_edges_from([(1, 'a'), (1, 'b'),(2, 'a'), (2, 'b'), (2, 'c'), (3, 'c'), (4, 'a')])\n",
        "\n",
        "HB = hnx.Hypergraph.from_bipartite(B)\n"
      ]
    },
    {
      "cell_type": "code",
      "execution_count": null,
      "metadata": {
        "id": "VTAu8eiAf161"
      },
      "outputs": [],
      "source": [
        "hnx.draw(HB)"
      ]
    },
    {
      "cell_type": "markdown",
      "metadata": {
        "id": "wd59NabVf162"
      },
      "source": [
        "All hypergraphs have a natural dual structure where the edges and nodes switch roles. Edges become nodes and nodes become edges. This can be constructed by callig the `dual` method for a given hypergraph."
      ]
    },
    {
      "cell_type": "code",
      "execution_count": null,
      "metadata": {
        "id": "Zef1g5Lwf162"
      },
      "outputs": [],
      "source": [
        "HD = H.dual()\n",
        "hnx.draw(HD)"
      ]
    },
    {
      "cell_type": "markdown",
      "metadata": {
        "id": "MvR-8E0Sf163"
      },
      "source": [
        "There are many simple methods to begin to familiarize yourself with the hypergraph."
      ]
    },
    {
      "cell_type": "code",
      "execution_count": null,
      "metadata": {
        "id": "IXTrle0df163"
      },
      "outputs": [],
      "source": [
        "# See the nodes as Entities within an EntitySet object\n",
        "\n",
        "H.nodes"
      ]
    },
    {
      "cell_type": "code",
      "execution_count": null,
      "metadata": {
        "id": "9wVoFaymf164"
      },
      "outputs": [],
      "source": [
        "# Use list() to get just the names of the nodes\n",
        "\n",
        "list(H.nodes)"
      ]
    },
    {
      "cell_type": "code",
      "execution_count": null,
      "metadata": {
        "id": "0hA9R2yZf164"
      },
      "outputs": [],
      "source": [
        "# Similarly for edges\n",
        "\n",
        "H.edges"
      ]
    },
    {
      "cell_type": "code",
      "execution_count": null,
      "metadata": {
        "id": "HZlpgtWIf165"
      },
      "outputs": [],
      "source": [
        "list(H.edges)"
      ]
    },
    {
      "cell_type": "code",
      "execution_count": null,
      "metadata": {
        "id": "rcWn9761f165"
      },
      "outputs": [],
      "source": [
        "# The number of nodes and edges is returned by the shape property\n",
        "\n",
        "H.shape"
      ]
    },
    {
      "cell_type": "markdown",
      "metadata": {
        "id": "3ptbdIUPf165"
      },
      "source": [
        "The degree of a node is the number of edges it is contained within. The (optional) `s` parameter places a restriction on the size of the edges you consider. The degree function looks for all edges of size $\\geq s$. The (optional, not shown here) edges parameter allows you to restrict to a specific edge set.\n",
        "\n",
        "Note: `H.s_degree(node)` is a wrapper for the degree method and returns the same thing."
      ]
    },
    {
      "cell_type": "code",
      "execution_count": null,
      "metadata": {
        "id": "C1ZHGqh7f166"
      },
      "outputs": [],
      "source": [
        "H.degree('JV', s=1)"
      ]
    },
    {
      "cell_type": "markdown",
      "metadata": {
        "id": "ZDChsobhf166"
      },
      "source": [
        "The dim (dimension) and size methods return information about an edge. The size is the number of nodes contained in an edge and the dimension is one less than the size. The dimension is so named because if we consider a hypergraph as a simplicial complex then each edge is a simplex. The dimension of a simplex is one less than its number of nodes."
      ]
    },
    {
      "cell_type": "code",
      "execution_count": null,
      "metadata": {
        "id": "-FNi8T5Uf167"
      },
      "outputs": [],
      "source": [
        "H.dim(3), H.size(3)"
      ]
    },
    {
      "cell_type": "markdown",
      "metadata": {
        "id": "sptMJJ6of167"
      },
      "source": [
        "The neighbors method returns an interator that goes through all nodes which share an edge with the given node."
      ]
    },
    {
      "cell_type": "code",
      "execution_count": null,
      "metadata": {
        "id": "Kw30wvoBf167"
      },
      "outputs": [],
      "source": [
        "for nei in H.neighbors('JV'):\n",
        "    print(nei)\n",
        "    \n",
        "# As with any iterator you can get all of the values in a list\n",
        "list(H.neighbors('JV'))"
      ]
    },
    {
      "cell_type": "markdown",
      "metadata": {
        "id": "UTB-IudYf168"
      },
      "source": [
        "# Hypergraph representations\n",
        "There are different ways representing the data contained within the hypergraph. `H.incidence_dict` returns a dictionary whereas `H.incidence_matrix()` returns a scipy sparse matrix in Compressed Sparse Row format. `H.bipartite()` returns a networkx bipartite `Graph()` object."
      ]
    },
    {
      "cell_type": "code",
      "execution_count": null,
      "metadata": {
        "id": "lSG6vr-2f169"
      },
      "outputs": [],
      "source": [
        "H.incidence_dict"
      ]
    },
    {
      "cell_type": "code",
      "execution_count": null,
      "metadata": {
        "id": "xfmZx4zmf16-"
      },
      "outputs": [],
      "source": [
        "M_incidence = H.incidence_matrix()\n",
        "M_incidence.toarray()"
      ]
    },
    {
      "cell_type": "code",
      "execution_count": null,
      "metadata": {
        "id": "lTnMQ0jRf16-"
      },
      "outputs": [],
      "source": [
        "## Networkx and HyperNetX visualizations of the bipartite representation of the hypergraph\n",
        "fig,ax = plt.subplots(1,2,figsize=(15,8))\n",
        "BH = H.bipartite()\n",
        "top = nx.bipartite.sets(BH)[0]\n",
        "pos = nx.bipartite_layout(BH, top)\n",
        "nx.draw(BH, with_labels=True,pos=pos,ax=ax[0])\n",
        "hnx.drawing.two_column.draw(H,ax=ax[1])"
      ]
    },
    {
      "cell_type": "markdown",
      "metadata": {
        "id": "NaswAZANf16-"
      },
      "source": [
        "# Connected components\n",
        "Just as is done in graphs we can consider connected components of a hypergraph. But because edges can intersect in any number of nodes the connected components can be computed for different levels of connection strength. HNX has two main methods for exploring the components: `s_components` and `s_component_subgraphs`. To learn more about some of our research in this area check out our paper \n",
        "<a href=\"https://epjdatascience.springeropen.com/articles/10.1140/epjds/s13688-020-00231-0\">\n",
        "Hypernetwork science via high order hypergraph walks</a>.\n",
        "\n",
        "`s_components` returns a generator object which iterates through the edge sets for each s-connected component.  "
      ]
    },
    {
      "cell_type": "code",
      "execution_count": null,
      "metadata": {
        "id": "N-97BEk3f16_"
      },
      "outputs": [],
      "source": [
        "print('1-component edge sets:')\n",
        "for comp in H.s_components(s=1):\n",
        "    print(comp)\n",
        "\n",
        "print('\\n2-component edge sets:')\n",
        "for comp in H.s_components(s=2):\n",
        "    print(comp)\n",
        "    "
      ]
    },
    {
      "cell_type": "markdown",
      "metadata": {
        "id": "KUtpIlqMf16_"
      },
      "source": [
        "`s_component_subgraphs` returns a generator object which iterates through the sub-hypergraph for each s-connected component.  "
      ]
    },
    {
      "cell_type": "code",
      "execution_count": null,
      "metadata": {
        "id": "GKgNYAqbf16_"
      },
      "outputs": [],
      "source": [
        "print('1-component sub-hypergraph incidence dictionaries:')\n",
        "for comp in H.s_component_subgraphs(s=1):\n",
        "    print(comp.incidence_dict)\n",
        "\n",
        "print('\\n2-component sub-hypergraph incidence dictionaries:')\n",
        "for comp in H.s_component_subgraphs(s=2):\n",
        "    print(comp.incidence_dict)\n",
        "    "
      ]
    },
    {
      "cell_type": "markdown",
      "metadata": {
        "id": "PF55M78Uf16_"
      },
      "source": [
        "The methods `component_subgraphs` and `connected_component_subgraphs` are wrappers for `s_component_subgraphs`, and the methods `components` and `connected_components` are wrappers for `s_components`.  \n",
        "\n",
        "The `is_connected` method with optional parameter `s` (default `s=1`) returns `True` or `False` depending on whether the hypergraph is s-connected."
      ]
    },
    {
      "cell_type": "code",
      "execution_count": null,
      "metadata": {
        "id": "ddxH9Hcpf17A"
      },
      "outputs": [],
      "source": [
        "# The Les Mis example hypergraph is 1-connected but not 2-connected\n",
        "\n",
        "H.is_connected(s=1), H.is_connected(s=2)"
      ]
    },
    {
      "cell_type": "markdown",
      "metadata": {
        "id": "1Ok7L5zif17A"
      },
      "source": [
        "# Adjacency matrices\n",
        "In order to compute s-connected components we use a helper auxiliary matrix: the s-adjacency matrix of the edges of size >= s. Two edges are considered s-adjacent if they intersect in at least s nodes. This is computed using `auxillary_matrix`. The output is a scipy compressed sparse row matrix.\n",
        "\n",
        "**Note**: At present these matrices are unweighted, we will introduce weighting in a near future release."
      ]
    },
    {
      "cell_type": "code",
      "execution_count": null,
      "metadata": {
        "id": "69uU7Ez_f17A"
      },
      "outputs": [],
      "source": [
        "M_aux1 = H.auxiliary_matrix(s=1)\n",
        "M_aux1.toarray()"
      ]
    },
    {
      "cell_type": "code",
      "execution_count": null,
      "metadata": {
        "id": "_uFSwJBUf17A"
      },
      "outputs": [],
      "source": [
        "M_aux3 = H.auxiliary_matrix(s=3)\n",
        "M_aux3.toarray()"
      ]
    },
    {
      "cell_type": "markdown",
      "metadata": {
        "id": "i6qE1R8-f17B"
      },
      "source": [
        "There are two helper functions: `adjacency_matrix` and `edge_adjacency_matrix`. The former is the s-adjacency matrix of all nodes where two nodes are considered s-adjacent if they are in s edges together. The latter is the same as the auxiliary matrix but for all edges (not just those of size >= s). "
      ]
    },
    {
      "cell_type": "markdown",
      "metadata": {
        "id": "ixEZo0pgf17B"
      },
      "source": [
        "# Distances and diameters\n",
        "Just as connected components of graphs generalized to s-connected components in hypergraphs, the distance and diameter can be generalized to s-distance and s-diameter in hypergraphs. \n",
        "\n",
        "We can compute s-distance between edges using `edge_distance` and between nodes using `distance`. See the glossary in the documentation for detailed definitions of distance between edges and between nodes."
      ]
    },
    {
      "cell_type": "code",
      "execution_count": null,
      "metadata": {
        "id": "MRI6z0eFf17B"
      },
      "outputs": [],
      "source": [
        "# Optional parameter s is not shown, defaults to s=1\n",
        "\n",
        "H.distance('MA', 'FN')"
      ]
    },
    {
      "cell_type": "code",
      "execution_count": null,
      "metadata": {
        "id": "ex9eUfwof17B"
      },
      "outputs": [],
      "source": [
        "# Optional parameter s is not shown, defaults to s=1\n",
        "\n",
        "H.edge_distance(4, 6)"
      ]
    },
    {
      "cell_type": "markdown",
      "metadata": {
        "id": "_rViuHJ6f17C"
      },
      "source": [
        "If the edges or nodes are not $s$-connected then the $s$-distance displays a warning and returns `inf`."
      ]
    },
    {
      "cell_type": "code",
      "execution_count": null,
      "metadata": {
        "id": "sIh6skspf17C"
      },
      "outputs": [],
      "source": [
        "H.edge_distance(4, 6, s=2)"
      ]
    },
    {
      "cell_type": "markdown",
      "metadata": {
        "id": "wKOITb5lf17C"
      },
      "source": [
        "The $s$-diameter (`diameter`) is the longest distance between any two nodes and the $s$-edge diameter (`edge_diameter`) is the longest distance between any two edges."
      ]
    },
    {
      "cell_type": "code",
      "execution_count": null,
      "metadata": {
        "id": "rfCrO093f17C"
      },
      "outputs": [],
      "source": [
        "# Optional parameter s is not shown, default is s=1\n",
        "\n",
        "H.diameter(), H.edge_diameter()"
      ]
    },
    {
      "cell_type": "code",
      "execution_count": null,
      "metadata": {
        "id": "vOhVR5tqf17C"
      },
      "outputs": [],
      "source": []
    },
    {
      "cell_type": "markdown",
      "metadata": {
        "id": "te8OOltuf17D"
      },
      "source": [
        "If the hypergraph is not $s$-connected then the diameter methods throw a `HyperNetXError`."
      ]
    },
    {
      "cell_type": "code",
      "execution_count": null,
      "metadata": {
        "id": "alDWgiV8f17D"
      },
      "outputs": [],
      "source": [
        "# ## Uncomment this cell to test the error message\n",
        "# H.diameter(s=2)"
      ]
    },
    {
      "cell_type": "markdown",
      "metadata": {
        "id": "RzkZMMVbf17D"
      },
      "source": [
        "If your hypergraph is not s-connected but you want to explore the s-diameters of all of the s-connected components (edge or node) use `node_diameters` and `edge_diameters`. This returns a tuple where the first element is the maximum diameter over all s-components, the second element is the list of all s-diameters, and the third is the list of the s-components (edges or nodes)."
      ]
    },
    {
      "cell_type": "code",
      "execution_count": null,
      "metadata": {
        "id": "0D8N8l0Zf17D"
      },
      "outputs": [],
      "source": [
        "H.node_diameters(s=2)"
      ]
    },
    {
      "cell_type": "code",
      "execution_count": null,
      "metadata": {
        "id": "d44Qe3N3f17D"
      },
      "outputs": [],
      "source": [
        "H.edge_diameters(s=2)"
      ]
    },
    {
      "cell_type": "markdown",
      "metadata": {
        "id": "ocTDstuif17E"
      },
      "source": [
        "# Collapsing nodes and edges\n",
        "Sometimes a set of nodes are in the exact same set of edges, or more than one edge encloses the exact same set of nodes. We call these duplicate nodes and duplicate edges. They can be collapsed to a single representative using `collapse_nodes`, `collapse_edges`, and `collapse_nodes_and_edges`.\n",
        "\n",
        "There are some parameters that can be used:\n",
        "* use_reps = True/False : default is False and each \"supernode\" is represented by a frozenset of the nodes which it represents. If use_reps=True then a single representative will be chosen from those sets.\n",
        "* return_counts = True/False : default is True and it keeps the counts of the nodes within each supernode. However, this only works when use_reps=True because if use_reps=False then the counts are just the sizes of the frozensets.\n",
        "\n",
        "Keeping the default parameters and running the function with no arguments works best with the draw method."
      ]
    },
    {
      "cell_type": "code",
      "execution_count": null,
      "metadata": {
        "id": "lYS6WO3Of17E"
      },
      "outputs": [],
      "source": [
        "H_node_collapse = H.collapse_nodes()\n",
        "H_node_collapse.incidence_dict"
      ]
    },
    {
      "cell_type": "markdown",
      "metadata": {
        "id": "4B-tiX7Jf17E"
      },
      "source": [
        "Running the draw function on a collapsed hypergraph will show the supernodes as larger, depending on how many nodes each represents."
      ]
    },
    {
      "cell_type": "code",
      "execution_count": null,
      "metadata": {
        "id": "R8XTQBYVf17E"
      },
      "outputs": [],
      "source": [
        "hnx.draw(H_node_collapse)"
      ]
    },
    {
      "cell_type": "code",
      "execution_count": null,
      "metadata": {
        "id": "MIJ6f_o1f17E"
      },
      "outputs": [],
      "source": [
        "# There are no duplicate edges in H, but there are in the dual of H\n",
        "\n",
        "HD_edge_collapse = HD.collapse_edges()"
      ]
    },
    {
      "cell_type": "code",
      "execution_count": null,
      "metadata": {
        "id": "WooqxCyPf17E"
      },
      "outputs": [],
      "source": [
        "hnx.draw(HD_edge_collapse, with_edge_counts=True)"
      ]
    },
    {
      "cell_type": "markdown",
      "metadata": {
        "id": "UsFRk9mUf17F"
      },
      "source": [
        "`collapse_nodes_and_edges` simply runs both of the above collapsing commands."
      ]
    },
    {
      "cell_type": "markdown",
      "metadata": {
        "id": "IzCljVVVf17F"
      },
      "source": [
        "# Updating the Hypergraph\n",
        "You can add edges to and remove edges from an an existing hypergraph."
      ]
    },
    {
      "cell_type": "code",
      "execution_count": null,
      "metadata": {
        "id": "u-eKmci9f17F"
      },
      "outputs": [],
      "source": [
        "edge1 = hnx.Entity('new1', elements=['JV', 'MA'])\n",
        "edge2 = hnx.Entity('new2', elements=['GP', 'MA'])\n",
        "edge3 = hnx.Entity('new3', elements=['FN', 'JV'])\n",
        "\n",
        "# add a single edge\n",
        "H.add_edge(edge1)\n",
        "\n",
        "# add edges from a list of edges\n",
        "H.add_edges_from([edge2, edge3])\n",
        "\n",
        "# display the incidence dictionary with new edges now added\n",
        "H.incidence_dict"
      ]
    },
    {
      "cell_type": "code",
      "execution_count": null,
      "metadata": {
        "id": "Y6hazQKBf17F"
      },
      "outputs": [],
      "source": [
        "hnx.draw(H)"
      ]
    },
    {
      "cell_type": "code",
      "execution_count": null,
      "metadata": {
        "id": "huH_ah5Pf17G"
      },
      "outputs": [],
      "source": [
        "H.remove_edge('new3')\n",
        "H.remove_edges(['new1', 'new2'])\n",
        "H.incidence_dict"
      ]
    },
    {
      "cell_type": "code",
      "execution_count": null,
      "metadata": {
        "id": "fAPEN8thf17G"
      },
      "outputs": [],
      "source": [
        "hnx.draw(H)"
      ]
    },
    {
      "cell_type": "markdown",
      "metadata": {
        "id": "-Yu2sHeSf17G"
      },
      "source": [
        "You can also add nodes to already existing edges."
      ]
    },
    {
      "cell_type": "code",
      "execution_count": null,
      "metadata": {
        "id": "W7NMI1G_f17G"
      },
      "outputs": [],
      "source": [
        "H.add_node_to_edge('SantaClaus', 7)\n",
        "H.incidence_dict"
      ]
    },
    {
      "cell_type": "code",
      "execution_count": null,
      "metadata": {
        "id": "yyYYuD7bf17G"
      },
      "outputs": [],
      "source": [
        "hnx.draw(H)"
      ]
    },
    {
      "cell_type": "code",
      "execution_count": null,
      "metadata": {
        "id": "gjQLU34xf17H"
      },
      "outputs": [],
      "source": [
        "H.remove_node('SantaClaus')"
      ]
    },
    {
      "cell_type": "code",
      "execution_count": null,
      "metadata": {
        "id": "X74RD-Sbf17H"
      },
      "outputs": [],
      "source": [
        "hnx.draw(H)"
      ]
    },
    {
      "cell_type": "markdown",
      "metadata": {
        "id": "l-PUfGCrf17H"
      },
      "source": [
        "# Building sub-hypergraphs\n",
        "There are two methods to look at different kinds of sub-hypergraphs formed from specific sets of nodes (and all edges that they are included in) or sets of edges (and all nodes contained in the edges): `restrict_to_nodes` and `restrict_to_edges`."
      ]
    },
    {
      "cell_type": "code",
      "execution_count": null,
      "metadata": {
        "id": "yIalmN0Jf17H"
      },
      "outputs": [],
      "source": [
        "H_restrict_nodes = H.restrict_to_nodes(['JA', 'FN', 'JV', 'MA', 'BM', 'TH'])\n",
        "hnx.draw(H_restrict_nodes)"
      ]
    },
    {
      "cell_type": "markdown",
      "metadata": {
        "id": "EcXRbvyrf17H"
      },
      "source": [
        "Notice that edges in these subgraphs restricted to nodes may be smaller than the edges in the original hypergraph. For example, in `H` edge 3 contains BM, CH, JU, and JV but in this sub-hypergraph it only contains BM and JV because CH and JU were not in our node set."
      ]
    },
    {
      "cell_type": "code",
      "execution_count": null,
      "metadata": {
        "id": "MlneFQzff17H"
      },
      "outputs": [],
      "source": [
        "H_restrict_nodes.incidence_dict"
      ]
    },
    {
      "cell_type": "code",
      "execution_count": null,
      "metadata": {
        "id": "GMKVcAkif17I"
      },
      "outputs": [],
      "source": [
        "H_restrict_edges = H.restrict_to_edges([0, 1, 2, 3])\n",
        "hnx.draw(H_restrict_edges)"
      ]
    },
    {
      "cell_type": "markdown",
      "metadata": {
        "id": "Yv0W4l8Cf17I"
      },
      "source": [
        "Another way to get a sub-hypergraph is to remove \"uninteresting\" components. This may be different depending on what you are using as your data set to build a hypergraph. But one simple and almost universally uninteresting component is an \"isolated singleton\". These are edges of size 1 which are not duplicated. They can be removed from a hypergraph using `remove_singletons`."
      ]
    },
    {
      "cell_type": "code",
      "execution_count": null,
      "metadata": {
        "id": "l7MFU9Etf17I"
      },
      "outputs": [],
      "source": [
        "H_restrict_nodes_no_singletons = H_restrict_nodes.remove_singletons()\n",
        "hnx.draw(H_restrict_nodes_no_singletons)"
      ]
    },
    {
      "cell_type": "markdown",
      "metadata": {
        "id": "jWrIlYRMf17I"
      },
      "source": [
        "If the isolated singletons are actually interesting to you then you can use the `singletons` method to find them. This returns a list of isolated singleton edges."
      ]
    },
    {
      "cell_type": "code",
      "execution_count": null,
      "metadata": {
        "id": "sTkuEYsHf17I"
      },
      "outputs": [],
      "source": [
        "H_restrict_nodes.singletons()"
      ]
    },
    {
      "cell_type": "markdown",
      "metadata": {
        "id": "TXaTy0XRf17J"
      },
      "source": [
        "Finally, sometimes we care only about top level hyperedges, those which are not contained in any other hyperedge (though they may intersect others). We call these toplexes and they can be found using the `toplexes` method. This returns a new hypergraph consisting only of the toplex hyperedges."
      ]
    },
    {
      "cell_type": "code",
      "execution_count": null,
      "metadata": {
        "id": "TCZojPVSf17J"
      },
      "outputs": [],
      "source": [
        "# The only non-toplex in our Les Mis example is edge 3\n",
        "\n",
        "H_top = H.toplexes()\n",
        "hnx.draw(H_top)"
      ]
    }
  ],
  "metadata": {
    "kernelspec": {
      "display_name": "Python 3 (ipykernel)",
      "language": "python",
      "name": "python3"
    },
    "language_info": {
      "codemirror_mode": {
        "name": "ipython",
        "version": 3
      },
      "file_extension": ".py",
      "mimetype": "text/x-python",
      "name": "python",
      "nbconvert_exporter": "python",
      "pygments_lexer": "ipython3",
      "version": "3.7.10"
    },
    "colab": {
      "provenance": [],
      "include_colab_link": true
    }
  },
  "nbformat": 4,
  "nbformat_minor": 0
}